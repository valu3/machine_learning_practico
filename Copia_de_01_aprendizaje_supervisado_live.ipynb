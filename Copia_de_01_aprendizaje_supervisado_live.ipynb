{
  "nbformat": 4,
  "nbformat_minor": 0,
  "metadata": {
    "kernelspec": {
      "display_name": "Python 3",
      "language": "python",
      "name": "python3"
    },
    "language_info": {
      "codemirror_mode": {
        "name": "ipython",
        "version": 3
      },
      "file_extension": ".py",
      "mimetype": "text/x-python",
      "name": "python",
      "nbconvert_exporter": "python",
      "pygments_lexer": "ipython3",
      "version": "3.8.3"
    },
    "colab": {
      "name": "Copia de 01-aprendizaje_supervisado.ipynb",
      "provenance": [],
      "include_colab_link": true
    }
  },
  "cells": [
    {
      "cell_type": "markdown",
      "metadata": {
        "id": "view-in-github",
        "colab_type": "text"
      },
      "source": [
        "<a href=\"https://colab.research.google.com/github/valu3/machine_learning_practico/blob/clase-1/Copia_de_01_aprendizaje_supervisado_live.ipynb\" target=\"_parent\"><img src=\"https://colab.research.google.com/assets/colab-badge.svg\" alt=\"Open In Colab\"/></a>"
      ]
    },
    {
      "cell_type": "code",
      "metadata": {
        "id": "V_c-iPEEGyWx",
        "outputId": "670c8c3f-4a24-4d11-c282-7c5bda567401",
        "colab": {
          "base_uri": "https://localhost:8080/",
          "height": 343
        }
      },
      "source": [
        "pip install --upgrade scikit-learn"
      ],
      "execution_count": null,
      "outputs": [
        {
          "output_type": "stream",
          "text": [
            "Collecting scikit-learn\n",
            "\u001b[?25l  Downloading https://files.pythonhosted.org/packages/5c/a1/273def87037a7fb010512bbc5901c31cfddfca8080bc63b42b26e3cc55b3/scikit_learn-0.23.2-cp36-cp36m-manylinux1_x86_64.whl (6.8MB)\n",
            "\u001b[K     |████████████████████████████████| 6.8MB 2.5MB/s \n",
            "\u001b[?25hRequirement already satisfied, skipping upgrade: scipy>=0.19.1 in /usr/local/lib/python3.6/dist-packages (from scikit-learn) (1.4.1)\n",
            "Collecting threadpoolctl>=2.0.0\n",
            "  Downloading https://files.pythonhosted.org/packages/f7/12/ec3f2e203afa394a149911729357aa48affc59c20e2c1c8297a60f33f133/threadpoolctl-2.1.0-py3-none-any.whl\n",
            "Requirement already satisfied, skipping upgrade: numpy>=1.13.3 in /usr/local/lib/python3.6/dist-packages (from scikit-learn) (1.18.5)\n",
            "Requirement already satisfied, skipping upgrade: joblib>=0.11 in /usr/local/lib/python3.6/dist-packages (from scikit-learn) (0.17.0)\n",
            "Installing collected packages: threadpoolctl, scikit-learn\n",
            "  Found existing installation: scikit-learn 0.22.2.post1\n",
            "    Uninstalling scikit-learn-0.22.2.post1:\n",
            "      Successfully uninstalled scikit-learn-0.22.2.post1\n",
            "Successfully installed scikit-learn-0.23.2 threadpoolctl-2.1.0\n"
          ],
          "name": "stdout"
        },
        {
          "output_type": "display_data",
          "data": {
            "application/vnd.colab-display-data+json": {
              "pip_warning": {
                "packages": [
                  "sklearn"
                ]
              }
            }
          },
          "metadata": {
            "tags": []
          }
        }
      ]
    },
    {
      "cell_type": "code",
      "metadata": {
        "id": "_Sp-5u_Xth0g"
      },
      "source": [
        "import sklearn as sk\n",
        "from sklearn.datasets import load_wine\n",
        "import pandas as pd\n",
        "\n",
        "X, y = load_wine(return_X_y=True, as_frame=True)"
      ],
      "execution_count": null,
      "outputs": []
    },
    {
      "cell_type": "code",
      "metadata": {
        "id": "wOOpeeg3Jkwa",
        "outputId": "a27fb0aa-3cb6-4a76-8a25-62542e5c543e",
        "colab": {
          "base_uri": "https://localhost:8080/"
        }
      },
      "source": [
        "a=load_wine()\n",
        "a.keys()\n",
        "\n",
        "print (a['DESCR'])"
      ],
      "execution_count": null,
      "outputs": [
        {
          "output_type": "stream",
          "text": [
            ".. _wine_dataset:\n",
            "\n",
            "Wine recognition dataset\n",
            "------------------------\n",
            "\n",
            "**Data Set Characteristics:**\n",
            "\n",
            "    :Number of Instances: 178 (50 in each of three classes)\n",
            "    :Number of Attributes: 13 numeric, predictive attributes and the class\n",
            "    :Attribute Information:\n",
            " \t\t- Alcohol\n",
            " \t\t- Malic acid\n",
            " \t\t- Ash\n",
            "\t\t- Alcalinity of ash  \n",
            " \t\t- Magnesium\n",
            "\t\t- Total phenols\n",
            " \t\t- Flavanoids\n",
            " \t\t- Nonflavanoid phenols\n",
            " \t\t- Proanthocyanins\n",
            "\t\t- Color intensity\n",
            " \t\t- Hue\n",
            " \t\t- OD280/OD315 of diluted wines\n",
            " \t\t- Proline\n",
            "\n",
            "    - class:\n",
            "            - class_0\n",
            "            - class_1\n",
            "            - class_2\n",
            "\t\t\n",
            "    :Summary Statistics:\n",
            "    \n",
            "    ============================= ==== ===== ======= =====\n",
            "                                   Min   Max   Mean     SD\n",
            "    ============================= ==== ===== ======= =====\n",
            "    Alcohol:                      11.0  14.8    13.0   0.8\n",
            "    Malic Acid:                   0.74  5.80    2.34  1.12\n",
            "    Ash:                          1.36  3.23    2.36  0.27\n",
            "    Alcalinity of Ash:            10.6  30.0    19.5   3.3\n",
            "    Magnesium:                    70.0 162.0    99.7  14.3\n",
            "    Total Phenols:                0.98  3.88    2.29  0.63\n",
            "    Flavanoids:                   0.34  5.08    2.03  1.00\n",
            "    Nonflavanoid Phenols:         0.13  0.66    0.36  0.12\n",
            "    Proanthocyanins:              0.41  3.58    1.59  0.57\n",
            "    Colour Intensity:              1.3  13.0     5.1   2.3\n",
            "    Hue:                          0.48  1.71    0.96  0.23\n",
            "    OD280/OD315 of diluted wines: 1.27  4.00    2.61  0.71\n",
            "    Proline:                       278  1680     746   315\n",
            "    ============================= ==== ===== ======= =====\n",
            "\n",
            "    :Missing Attribute Values: None\n",
            "    :Class Distribution: class_0 (59), class_1 (71), class_2 (48)\n",
            "    :Creator: R.A. Fisher\n",
            "    :Donor: Michael Marshall (MARSHALL%PLU@io.arc.nasa.gov)\n",
            "    :Date: July, 1988\n",
            "\n",
            "This is a copy of UCI ML Wine recognition datasets.\n",
            "https://archive.ics.uci.edu/ml/machine-learning-databases/wine/wine.data\n",
            "\n",
            "The data is the results of a chemical analysis of wines grown in the same\n",
            "region in Italy by three different cultivators. There are thirteen different\n",
            "measurements taken for different constituents found in the three types of\n",
            "wine.\n",
            "\n",
            "Original Owners: \n",
            "\n",
            "Forina, M. et al, PARVUS - \n",
            "An Extendible Package for Data Exploration, Classification and Correlation. \n",
            "Institute of Pharmaceutical and Food Analysis and Technologies,\n",
            "Via Brigata Salerno, 16147 Genoa, Italy.\n",
            "\n",
            "Citation:\n",
            "\n",
            "Lichman, M. (2013). UCI Machine Learning Repository\n",
            "[https://archive.ics.uci.edu/ml]. Irvine, CA: University of California,\n",
            "School of Information and Computer Science. \n",
            "\n",
            ".. topic:: References\n",
            "\n",
            "  (1) S. Aeberhard, D. Coomans and O. de Vel, \n",
            "  Comparison of Classifiers in High Dimensional Settings, \n",
            "  Tech. Rep. no. 92-02, (1992), Dept. of Computer Science and Dept. of  \n",
            "  Mathematics and Statistics, James Cook University of North Queensland. \n",
            "  (Also submitted to Technometrics). \n",
            "\n",
            "  The data was used with many others for comparing various \n",
            "  classifiers. The classes are separable, though only RDA \n",
            "  has achieved 100% correct classification. \n",
            "  (RDA : 100%, QDA 99.4%, LDA 98.9%, 1NN 96.1% (z-transformed data)) \n",
            "  (All results using the leave-one-out technique) \n",
            "\n",
            "  (2) S. Aeberhard, D. Coomans and O. de Vel, \n",
            "  \"THE CLASSIFICATION PERFORMANCE OF RDA\" \n",
            "  Tech. Rep. no. 92-01, (1992), Dept. of Computer Science and Dept. of \n",
            "  Mathematics and Statistics, James Cook University of North Queensland. \n",
            "  (Also submitted to Journal of Chemometrics).\n",
            "\n"
          ],
          "name": "stdout"
        }
      ]
    },
    {
      "cell_type": "code",
      "metadata": {
        "id": "tzR3MRs_th0x",
        "outputId": "11b7510a-47c2-488d-fd4f-9968d09ca4f0",
        "colab": {
          "base_uri": "https://localhost:8080/",
          "height": 224
        }
      },
      "source": [
        "X.head()"
      ],
      "execution_count": null,
      "outputs": [
        {
          "output_type": "execute_result",
          "data": {
            "text/html": [
              "<div>\n",
              "<style scoped>\n",
              "    .dataframe tbody tr th:only-of-type {\n",
              "        vertical-align: middle;\n",
              "    }\n",
              "\n",
              "    .dataframe tbody tr th {\n",
              "        vertical-align: top;\n",
              "    }\n",
              "\n",
              "    .dataframe thead th {\n",
              "        text-align: right;\n",
              "    }\n",
              "</style>\n",
              "<table border=\"1\" class=\"dataframe\">\n",
              "  <thead>\n",
              "    <tr style=\"text-align: right;\">\n",
              "      <th></th>\n",
              "      <th>alcohol</th>\n",
              "      <th>malic_acid</th>\n",
              "      <th>ash</th>\n",
              "      <th>alcalinity_of_ash</th>\n",
              "      <th>magnesium</th>\n",
              "      <th>total_phenols</th>\n",
              "      <th>flavanoids</th>\n",
              "      <th>nonflavanoid_phenols</th>\n",
              "      <th>proanthocyanins</th>\n",
              "      <th>color_intensity</th>\n",
              "      <th>hue</th>\n",
              "      <th>od280/od315_of_diluted_wines</th>\n",
              "      <th>proline</th>\n",
              "    </tr>\n",
              "  </thead>\n",
              "  <tbody>\n",
              "    <tr>\n",
              "      <th>0</th>\n",
              "      <td>14.23</td>\n",
              "      <td>1.71</td>\n",
              "      <td>2.43</td>\n",
              "      <td>15.6</td>\n",
              "      <td>127.0</td>\n",
              "      <td>2.80</td>\n",
              "      <td>3.06</td>\n",
              "      <td>0.28</td>\n",
              "      <td>2.29</td>\n",
              "      <td>5.64</td>\n",
              "      <td>1.04</td>\n",
              "      <td>3.92</td>\n",
              "      <td>1065.0</td>\n",
              "    </tr>\n",
              "    <tr>\n",
              "      <th>1</th>\n",
              "      <td>13.20</td>\n",
              "      <td>1.78</td>\n",
              "      <td>2.14</td>\n",
              "      <td>11.2</td>\n",
              "      <td>100.0</td>\n",
              "      <td>2.65</td>\n",
              "      <td>2.76</td>\n",
              "      <td>0.26</td>\n",
              "      <td>1.28</td>\n",
              "      <td>4.38</td>\n",
              "      <td>1.05</td>\n",
              "      <td>3.40</td>\n",
              "      <td>1050.0</td>\n",
              "    </tr>\n",
              "    <tr>\n",
              "      <th>2</th>\n",
              "      <td>13.16</td>\n",
              "      <td>2.36</td>\n",
              "      <td>2.67</td>\n",
              "      <td>18.6</td>\n",
              "      <td>101.0</td>\n",
              "      <td>2.80</td>\n",
              "      <td>3.24</td>\n",
              "      <td>0.30</td>\n",
              "      <td>2.81</td>\n",
              "      <td>5.68</td>\n",
              "      <td>1.03</td>\n",
              "      <td>3.17</td>\n",
              "      <td>1185.0</td>\n",
              "    </tr>\n",
              "    <tr>\n",
              "      <th>3</th>\n",
              "      <td>14.37</td>\n",
              "      <td>1.95</td>\n",
              "      <td>2.50</td>\n",
              "      <td>16.8</td>\n",
              "      <td>113.0</td>\n",
              "      <td>3.85</td>\n",
              "      <td>3.49</td>\n",
              "      <td>0.24</td>\n",
              "      <td>2.18</td>\n",
              "      <td>7.80</td>\n",
              "      <td>0.86</td>\n",
              "      <td>3.45</td>\n",
              "      <td>1480.0</td>\n",
              "    </tr>\n",
              "    <tr>\n",
              "      <th>4</th>\n",
              "      <td>13.24</td>\n",
              "      <td>2.59</td>\n",
              "      <td>2.87</td>\n",
              "      <td>21.0</td>\n",
              "      <td>118.0</td>\n",
              "      <td>2.80</td>\n",
              "      <td>2.69</td>\n",
              "      <td>0.39</td>\n",
              "      <td>1.82</td>\n",
              "      <td>4.32</td>\n",
              "      <td>1.04</td>\n",
              "      <td>2.93</td>\n",
              "      <td>735.0</td>\n",
              "    </tr>\n",
              "  </tbody>\n",
              "</table>\n",
              "</div>"
            ],
            "text/plain": [
              "   alcohol  malic_acid   ash  ...   hue  od280/od315_of_diluted_wines  proline\n",
              "0    14.23        1.71  2.43  ...  1.04                          3.92   1065.0\n",
              "1    13.20        1.78  2.14  ...  1.05                          3.40   1050.0\n",
              "2    13.16        2.36  2.67  ...  1.03                          3.17   1185.0\n",
              "3    14.37        1.95  2.50  ...  0.86                          3.45   1480.0\n",
              "4    13.24        2.59  2.87  ...  1.04                          2.93    735.0\n",
              "\n",
              "[5 rows x 13 columns]"
            ]
          },
          "metadata": {
            "tags": []
          },
          "execution_count": 2
        }
      ]
    },
    {
      "cell_type": "code",
      "metadata": {
        "id": "SvPWmxrDLEHE",
        "outputId": "e90f9cdf-9b84-47d6-9488-145c733a9b52",
        "colab": {
          "base_uri": "https://localhost:8080/"
        }
      },
      "source": [
        "y.values"
      ],
      "execution_count": null,
      "outputs": [
        {
          "output_type": "execute_result",
          "data": {
            "text/plain": [
              "array([0, 0, 0, 0, 0, 0, 0, 0, 0, 0, 0, 0, 0, 0, 0, 0, 0, 0, 0, 0, 0, 0,\n",
              "       0, 0, 0, 0, 0, 0, 0, 0, 0, 0, 0, 0, 0, 0, 0, 0, 0, 0, 0, 0, 0, 0,\n",
              "       0, 0, 0, 0, 0, 0, 0, 0, 0, 0, 0, 0, 0, 0, 0, 1, 1, 1, 1, 1, 1, 1,\n",
              "       1, 1, 1, 1, 1, 1, 1, 1, 1, 1, 1, 1, 1, 1, 1, 1, 1, 1, 1, 1, 1, 1,\n",
              "       1, 1, 1, 1, 1, 1, 1, 1, 1, 1, 1, 1, 1, 1, 1, 1, 1, 1, 1, 1, 1, 1,\n",
              "       1, 1, 1, 1, 1, 1, 1, 1, 1, 1, 1, 1, 1, 1, 1, 1, 1, 1, 1, 1, 2, 2,\n",
              "       2, 2, 2, 2, 2, 2, 2, 2, 2, 2, 2, 2, 2, 2, 2, 2, 2, 2, 2, 2, 2, 2,\n",
              "       2, 2, 2, 2, 2, 2, 2, 2, 2, 2, 2, 2, 2, 2, 2, 2, 2, 2, 2, 2, 2, 2,\n",
              "       2, 2])"
            ]
          },
          "metadata": {
            "tags": []
          },
          "execution_count": 15
        }
      ]
    },
    {
      "cell_type": "code",
      "metadata": {
        "id": "-GzpdaFzth1G"
      },
      "source": [
        "from sklearn.tree import DecisionTreeClassifier, plot_tree\n"
      ],
      "execution_count": null,
      "outputs": []
    },
    {
      "cell_type": "code",
      "metadata": {
        "id": "_SUKNjFFLZ6o"
      },
      "source": [
        "DecisionTreeClassifier? #abre ayuda\n",
        "\n",
        "#hiperparametros\n",
        "# Gini y entropy mide el corte. Antes se usaba information gain \n",
        "# Max_depth"
      ],
      "execution_count": null,
      "outputs": []
    },
    {
      "cell_type": "code",
      "metadata": {
        "id": "pBCKBperLfmU",
        "outputId": "6e311114-7716-491c-bb56-b9f627532472",
        "colab": {
          "base_uri": "https://localhost:8080/"
        }
      },
      "source": [
        "# Juga con max_depth!\n",
        "dt = DecisionTreeClassifier(criterion='entropy', max_depth=2) \n",
        "dt.fit(X, y)"
      ],
      "execution_count": null,
      "outputs": [
        {
          "output_type": "execute_result",
          "data": {
            "text/plain": [
              "DecisionTreeClassifier(criterion='entropy', max_depth=2)"
            ]
          },
          "metadata": {
            "tags": []
          },
          "execution_count": 19
        }
      ]
    },
    {
      "cell_type": "code",
      "metadata": {
        "id": "Z2yyU0Yrth1S",
        "outputId": "f7291a46-735a-4dbd-d67e-0fad9d198e71",
        "colab": {
          "base_uri": "https://localhost:8080/",
          "height": 466
        }
      },
      "source": [
        "import matplotlib.pyplot as plt\n",
        "\n",
        "plt.figure(figsize=(15,8))\n",
        "plot_tree(dt, feature_names=X.columns);\n",
        "\n",
        "# Value (en el arbol) son la cantidad por clase \n",
        "# Hay que tener cuidado con la pronfundidad porque puede dejar pocas cantidades para definir la categoria(no es relevante)\n"
      ],
      "execution_count": null,
      "outputs": [
        {
          "output_type": "display_data",
          "data": {
            "image/png": "[encoded data removed]",
            "text/plain": [
              "<Figure size 1080x576 with 1 Axes>"
            ]
          },
          "metadata": {
            "tags": [],
            "needs_background": "light"
          }
        }
      ]
    },
    {
      "cell_type": "code",
      "metadata": {
        "scrolled": false,
        "id": "A06lYr2mth1c",
        "outputId": "0cd568c8-784e-4beb-a2ad-7bb6783e4367",
        "colab": {
          "base_uri": "https://localhost:8080/",
          "height": 1000
        }
      },
      "source": [
        "# Vemos como se ven las distribuciones de las features en cada clase\n",
        "# Con esto podemos darnos una idea de por qué el decision tree prioriza una por sobre la otra\n",
        "\n",
        "for col in X.columns:\n",
        "    col_vals = []\n",
        "    for y_val in [0, 1]:\n",
        "        col_vals.append(X[col][y == y_val])\n",
        "\n",
        "    plt.figure()\n",
        "    plt.title(col)\n",
        "    plt.boxplot(col_vals)\n",
        "\n",
        "# ver cómo define los cortes, color intensity funciona bien, se nota la diferencia entre ambas clases    "
      ],
      "execution_count": null,
      "outputs": [
        {
          "output_type": "display_data",
          "data": {
            "image/png": "[encoded data removed]",
            "text/plain": [
              "<Figure size 432x288 with 1 Axes>"
            ]
          },
          "metadata": {
            "tags": [],
            "needs_background": "light"
          }
        },
        {
          "output_type": "display_data",
          "data": {
            "image/png": "[encoded data removed]",
            "text/plain": [
              "<Figure size 432x288 with 1 Axes>"
            ]
          },
          "metadata": {
            "tags": [],
            "needs_background": "light"
          }
        },
        {
          "output_type": "display_data",
          "data": {
            "image/png": "[encoded data removed]",
            "text/plain": [
              "<Figure size 432x288 with 1 Axes>"
            ]
          },
          "metadata": {
            "tags": [],
            "needs_background": "light"
          }
        },
        {
          "output_type": "display_data",
          "data": {
            "image/png": "[encoded data removed]",
            "text/plain": [
              "<Figure size 432x288 with 1 Axes>"
            ]
          },
          "metadata": {
            "tags": [],
            "needs_background": "light"
          }
        },
        {
          "output_type": "display_data",
          "data": {
            "image/png": "[encoded data removed]",
            "text/plain": [
              "<Figure size 432x288 with 1 Axes>"
            ]
          },
          "metadata": {
            "tags": [],
            "needs_background": "light"
          }
        },
        {
          "output_type": "display_data",
          "data": {
            "image/png": "[encoded data removed]",
            "text/plain": [
              "<Figure size 432x288 with 1 Axes>"
            ]
          },
          "metadata": {
            "tags": [],
            "needs_background": "light"
          }
        },
        {
          "output_type": "display_data",
          "data": {
            "image/png": "[encoded data removed]",
            "text/plain": [
              "<Figure size 432x288 with 1 Axes>"
            ]
          },
          "metadata": {
            "tags": [],
            "needs_background": "light"
          }
        },
        {
          "output_type": "display_data",
          "data": {
            "image/png": "[encoded data removed]",
            "text/plain": [
              "<Figure size 432x288 with 1 Axes>"
            ]
          },
          "metadata": {
            "tags": [],
            "needs_background": "light"
          }
        },
        {
          "output_type": "display_data",
          "data": {
            "image/png": "[encoded data removed]",
            "text/plain": [
              "<Figure size 432x288 with 1 Axes>"
            ]
          },
          "metadata": {
            "tags": [],
            "needs_background": "light"
          }
        },
        {
          "output_type": "display_data",
          "data": {
            "image/png": "[encoded data removed]",
            "text/plain": [
              "<Figure size 432x288 with 1 Axes>"
            ]
          },
          "metadata": {
            "tags": [],
            "needs_background": "light"
          }
        },
        {
          "output_type": "display_data",
          "data": {
            "image/png": "[encoded data removed]",
            "text/plain": [
              "<Figure size 432x288 with 1 Axes>"
            ]
          },
          "metadata": {
            "tags": [],
            "needs_background": "light"
          }
        },
        {
          "output_type": "display_data",
          "data": {
            "image/png": "[encoded data removed]",
            "text/plain": [
              "<Figure size 432x288 with 1 Axes>"
            ]
          },
          "metadata": {
            "tags": [],
            "needs_background": "light"
          }
        },
        {
          "output_type": "display_data",
          "data": {
            "image/png": "[encoded data removed]",
            "text/plain": [
              "<Figure size 432x288 with 1 Axes>"
            ]
          },
          "metadata": {
            "tags": [],
            "needs_background": "light"
          }
        }
      ]
    },
    {
      "cell_type": "code",
      "metadata": {
        "id": "N2iXNzokRYeC"
      },
      "source": [
        "#Predigo los valores de X\n",
        "preds= dt.predict(X) "
      ],
      "execution_count": null,
      "outputs": []
    },
    {
      "cell_type": "code",
      "metadata": {
        "id": "WywHWg-DRlPi",
        "outputId": "ac263bc2-9093-42ff-fb3e-fa79bbdd00a7",
        "colab": {
          "base_uri": "https://localhost:8080/"
        }
      },
      "source": [
        "(y == preds).sum() \n",
        "# comparo lo predecido con las etiquetas para saber cuantas hizo bien del total de 178"
      ],
      "execution_count": null,
      "outputs": [
        {
          "output_type": "execute_result",
          "data": {
            "text/plain": [
              "172"
            ]
          },
          "metadata": {
            "tags": []
          },
          "execution_count": 25
        }
      ]
    },
    {
      "cell_type": "code",
      "metadata": {
        "id": "2ZxuxvLQSJVF",
        "outputId": "d6ccf67c-23fb-4280-8b46-3d9815a9de1d",
        "colab": {
          "base_uri": "https://localhost:8080/"
        }
      },
      "source": [
        "(y== preds).tolist().index(False) #busco el index de alguno de los que esta mal"
      ],
      "execution_count": null,
      "outputs": [
        {
          "output_type": "execute_result",
          "data": {
            "text/plain": [
              "43"
            ]
          },
          "metadata": {
            "tags": []
          },
          "execution_count": 27
        }
      ]
    },
    {
      "cell_type": "code",
      "metadata": {
        "id": "5A8qbV4vSYaH",
        "outputId": "93bf5567-4481-4746-9ac2-af0499033578",
        "colab": {
          "base_uri": "https://localhost:8080/"
        }
      },
      "source": [
        "print('valor predecido: ', preds[43],'valor real: ', y.iloc[43])\n",
        "\n",
        "Falso positivo para la clase 1 (vp)\n",
        "Falso negativo para la clase 0 (vr)"
      ],
      "execution_count": null,
      "outputs": [
        {
          "output_type": "stream",
          "text": [
            "valor predecido:  1 valor real:  0\n"
          ],
          "name": "stdout"
        }
      ]
    },
    {
      "cell_type": "markdown",
      "metadata": {
        "id": "ROOfkgf_th1r"
      },
      "source": [
        "## Miremos algunas metricas\n",
        "\n",
        "\n",
        "\n",
        "\n",
        "Aprovechemos para jugar y ver como cambiar el max_depth mas arriba impacta en las metricas\n",
        "\n",
        "**Métrica F1:**"
      ]
    },
    {
      "cell_type": "code",
      "metadata": {
        "id": "qYtYBI_-th1t"
      },
      "source": [
        "from sklearn.metrics import precision_score, recall_score, roc_curve, roc_auc_score, f1_score"
      ],
      "execution_count": null,
      "outputs": []
    },
    {
      "cell_type": "code",
      "metadata": {
        "id": "lPyoJSfbth14",
        "outputId": "da0ef877-bfdf-4ad9-8245-a0fe9e3776ed"
      },
      "source": [
        "preds = dt.predict(X)\n",
        "\n",
        "preds[:10]"
      ],
      "execution_count": null,
      "outputs": [
        {
          "output_type": "execute_result",
          "data": {
            "text/plain": [
              "array([0, 0, 0, 0, 0, 0, 0, 0, 0, 0])"
            ]
          },
          "metadata": {
            "tags": []
          },
          "execution_count": 136
        }
      ]
    },
    {
      "cell_type": "code",
      "metadata": {
        "id": "7uukSRmUth2E",
        "outputId": "095c0605-3bda-4cd1-b3f6-efab18d27ebb",
        "colab": {
          "base_uri": "https://localhost:8080/"
        }
      },
      "source": [
        "f1_score(y, dt.predict(X), average='weighted')\n",
        "\n",
        "#como hay 3 clases (0,1,2) tira error\n",
        "#Se suele calcular la metrica asumiendo que hay dos clases. La clase 1 vs el resto, la 2 vs el resto etc. \n",
        "#Evaluo precision y recall en esos problemas por separado y luego promedio: micro,macro,weighted\n",
        "#precision y recall son los valores que usa F1 para el cálculo\n"
      ],
      "execution_count": null,
      "outputs": [
        {
          "output_type": "execute_result",
          "data": {
            "text/plain": [
              "0.9661807954410703"
            ]
          },
          "metadata": {
            "tags": []
          },
          "execution_count": 38
        }
      ]
    },
    {
      "cell_type": "code",
      "metadata": {
        "id": "mO5apIrZth2N",
        "outputId": "d88f2f67-dbd7-4955-e9bb-505f003a774a",
        "colab": {
          "base_uri": "https://localhost:8080/"
        }
      },
      "source": [
        "prec = precision_score(y, dt.predict(X),average='weighted')\n",
        "prec"
      ],
      "execution_count": null,
      "outputs": [
        {
          "output_type": "execute_result",
          "data": {
            "text/plain": [
              "0.9671587362799143"
            ]
          },
          "metadata": {
            "tags": []
          },
          "execution_count": 36
        }
      ]
    },
    {
      "cell_type": "code",
      "metadata": {
        "id": "cD-2wlLwth2W",
        "outputId": "f0477df9-493c-41b7-ab4f-bf331bd84ed2",
        "colab": {
          "base_uri": "https://localhost:8080/"
        }
      },
      "source": [
        "rec = recall_score(y, dt.predict(X),average='weighted')\n",
        "rec"
      ],
      "execution_count": null,
      "outputs": [
        {
          "output_type": "execute_result",
          "data": {
            "text/plain": [
              "0.9662921348314607"
            ]
          },
          "metadata": {
            "tags": []
          },
          "execution_count": 37
        }
      ]
    },
    {
      "cell_type": "code",
      "metadata": {
        "id": "RRs62JmVth2e",
        "outputId": "fb3c249f-f268-4af4-b8dd-7b38ab02d482",
        "colab": {
          "base_uri": "https://localhost:8080/"
        }
      },
      "source": [
        "# Solo para ver, efectivamente f1 es la ecuacion que vimos en clase?\n",
        "\n",
        "2 * prec * rec / (prec + rec)\n",
        "\n",
        "#el rdo es distinto, depende del average"
      ],
      "execution_count": null,
      "outputs": [
        {
          "output_type": "execute_result",
          "data": {
            "text/plain": [
              "0.9667252413438557"
            ]
          },
          "metadata": {
            "tags": []
          },
          "execution_count": 39
        }
      ]
    },
    {
      "cell_type": "markdown",
      "metadata": {
        "id": "_Rf2aw2RZmZV"
      },
      "source": [
        "### Convertimos el problema a clasificación binaria \n",
        "Cambiamos todas las clases 2 por clases 0"
      ]
    },
    {
      "cell_type": "code",
      "metadata": {
        "id": "nNS0vwP8ZlEW"
      },
      "source": [
        "y[y == 2] = 0"
      ],
      "execution_count": null,
      "outputs": []
    },
    {
      "cell_type": "code",
      "metadata": {
        "id": "LMxrVtSMaCuD",
        "outputId": "a141f037-a976-4a35-ae53-94378ccc6d66",
        "colab": {
          "base_uri": "https://localhost:8080/",
          "height": 349
        }
      },
      "source": [
        "dt = DecisionTreeClassifier(criterion='entropy') \n",
        "dt.fit(X, y)\n",
        "\n",
        "plt.figure(figsize=(15,8))\n",
        "plot_tree(dt, feature_names=X.columns);"
      ],
      "execution_count": null,
      "outputs": [
        {
          "output_type": "display_data",
          "data": {
            "image/png": "[encoded data removed]",
            "text/plain": [
              "<Figure size 1080x576 with 1 Axes>"
            ]
          },
          "metadata": {
            "tags": [],
            "needs_background": "light"
          }
        }
      ]
    },
    {
      "cell_type": "code",
      "metadata": {
        "id": "mtfNChukaSvV",
        "outputId": "9c877e8e-e7ea-45ed-e869-95f110a735cc",
        "colab": {
          "base_uri": "https://localhost:8080/"
        }
      },
      "source": [
        "#ya no necesito el average porque es un problema de dos clases\n",
        "f1= f1_score(y, dt.predict(X))\n",
        "prec = precision_score(y, dt.predict(X))\n",
        "rec = recall_score(y, dt.predict(X))\n",
        "f1_calc= 2 * prec * rec / (prec + rec)\n",
        "\n",
        "print('f1=',f1,', precision=',prec, ', recall=', rec)\n",
        "print('el f1 calclulado es ',f1_calc, '. Entonces el valor es igual, depende del average que cambie el rdo antes')"
      ],
      "execution_count": null,
      "outputs": [
        {
          "output_type": "stream",
          "text": [
            "f1= 0.873015873015873 , precision= 1.0 , recall= 0.7746478873239436\n",
            "el f1 calclulado es  0.873015873015873 . Entonces el valor es igual, depende del average que cambie el rdo antes\n"
          ],
          "name": "stdout"
        }
      ]
    },
    {
      "cell_type": "markdown",
      "metadata": {
        "id": "uwf82haOZ4Ly"
      },
      "source": [
        "## Seguimos mirando métricas\n",
        "\n",
        "**Métrica ROC**"
      ]
    },
    {
      "cell_type": "code",
      "metadata": {
        "id": "dRPDrH12th2m",
        "outputId": "b3ff404a-4308-4b44-b004-3f72c5bdbb5a",
        "colab": {
          "base_uri": "https://localhost:8080/"
        }
      },
      "source": [
        "dt.predict_proba(X)\n",
        "#Devuelve matriz con tantas filas como ejemplos del data set \n",
        "#y dos columnas, probabilidad de que sea clase 0 y probabilidad de clase 1\n",
        "#la suma de las dos columnas es 1"
      ],
      "execution_count": null,
      "outputs": [
        {
          "output_type": "execute_result",
          "data": {
            "text/plain": [
              "array([[1.       , 0.       ],\n",
              "       [1.       , 0.       ],\n",
              "       [1.       , 0.       ],\n",
              "       [1.       , 0.       ],\n",
              "       [1.       , 0.       ],\n",
              "       [1.       , 0.       ],\n",
              "       [1.       , 0.       ],\n",
              "       [1.       , 0.       ],\n",
              "       [1.       , 0.       ],\n",
              "       [1.       , 0.       ],\n",
              "       [1.       , 0.       ],\n",
              "       [1.       , 0.       ],\n",
              "       [1.       , 0.       ],\n",
              "       [1.       , 0.       ],\n",
              "       [1.       , 0.       ],\n",
              "       [1.       , 0.       ],\n",
              "       [1.       , 0.       ],\n",
              "       [1.       , 0.       ],\n",
              "       [1.       , 0.       ],\n",
              "       [1.       , 0.       ],\n",
              "       [1.       , 0.       ],\n",
              "       [1.       , 0.       ],\n",
              "       [1.       , 0.       ],\n",
              "       [1.       , 0.       ],\n",
              "       [1.       , 0.       ],\n",
              "       [1.       , 0.       ],\n",
              "       [1.       , 0.       ],\n",
              "       [1.       , 0.       ],\n",
              "       [1.       , 0.       ],\n",
              "       [1.       , 0.       ],\n",
              "       [1.       , 0.       ],\n",
              "       [1.       , 0.       ],\n",
              "       [1.       , 0.       ],\n",
              "       [1.       , 0.       ],\n",
              "       [1.       , 0.       ],\n",
              "       [1.       , 0.       ],\n",
              "       [1.       , 0.       ],\n",
              "       [1.       , 0.       ],\n",
              "       [1.       , 0.       ],\n",
              "       [1.       , 0.       ],\n",
              "       [1.       , 0.       ],\n",
              "       [1.       , 0.       ],\n",
              "       [1.       , 0.       ],\n",
              "       [0.7037037, 0.2962963],\n",
              "       [1.       , 0.       ],\n",
              "       [1.       , 0.       ],\n",
              "       [1.       , 0.       ],\n",
              "       [1.       , 0.       ],\n",
              "       [1.       , 0.       ],\n",
              "       [1.       , 0.       ],\n",
              "       [1.       , 0.       ],\n",
              "       [1.       , 0.       ],\n",
              "       [1.       , 0.       ],\n",
              "       [1.       , 0.       ],\n",
              "       [1.       , 0.       ],\n",
              "       [1.       , 0.       ],\n",
              "       [1.       , 0.       ],\n",
              "       [1.       , 0.       ],\n",
              "       [1.       , 0.       ],\n",
              "       [0.       , 1.       ],\n",
              "       [0.       , 1.       ],\n",
              "       [0.7037037, 0.2962963],\n",
              "       [0.7037037, 0.2962963],\n",
              "       [0.7037037, 0.2962963],\n",
              "       [0.       , 1.       ],\n",
              "       [0.7037037, 0.2962963],\n",
              "       [0.7037037, 0.2962963],\n",
              "       [0.7037037, 0.2962963],\n",
              "       [0.       , 1.       ],\n",
              "       [0.       , 1.       ],\n",
              "       [0.       , 1.       ],\n",
              "       [0.       , 1.       ],\n",
              "       [0.7037037, 0.2962963],\n",
              "       [0.       , 1.       ],\n",
              "       [0.       , 1.       ],\n",
              "       [0.7037037, 0.2962963],\n",
              "       [0.7037037, 0.2962963],\n",
              "       [0.       , 1.       ],\n",
              "       [0.       , 1.       ],\n",
              "       [0.       , 1.       ],\n",
              "       [0.       , 1.       ],\n",
              "       [0.7037037, 0.2962963],\n",
              "       [0.       , 1.       ],\n",
              "       [0.7037037, 0.2962963],\n",
              "       [0.       , 1.       ],\n",
              "       [0.       , 1.       ],\n",
              "       [0.       , 1.       ],\n",
              "       [0.       , 1.       ],\n",
              "       [0.       , 1.       ],\n",
              "       [0.       , 1.       ],\n",
              "       [0.       , 1.       ],\n",
              "       [0.7037037, 0.2962963],\n",
              "       [0.       , 1.       ],\n",
              "       [0.       , 1.       ],\n",
              "       [0.       , 1.       ],\n",
              "       [0.       , 1.       ],\n",
              "       [0.       , 1.       ],\n",
              "       [0.       , 1.       ],\n",
              "       [0.7037037, 0.2962963],\n",
              "       [0.       , 1.       ],\n",
              "       [0.       , 1.       ],\n",
              "       [0.       , 1.       ],\n",
              "       [0.       , 1.       ],\n",
              "       [0.       , 1.       ],\n",
              "       [0.       , 1.       ],\n",
              "       [0.       , 1.       ],\n",
              "       [0.       , 1.       ],\n",
              "       [0.       , 1.       ],\n",
              "       [0.       , 1.       ],\n",
              "       [0.       , 1.       ],\n",
              "       [0.       , 1.       ],\n",
              "       [0.       , 1.       ],\n",
              "       [0.7037037, 0.2962963],\n",
              "       [0.       , 1.       ],\n",
              "       [0.       , 1.       ],\n",
              "       [0.       , 1.       ],\n",
              "       [0.       , 1.       ],\n",
              "       [0.       , 1.       ],\n",
              "       [0.       , 1.       ],\n",
              "       [0.       , 1.       ],\n",
              "       [0.       , 1.       ],\n",
              "       [0.7037037, 0.2962963],\n",
              "       [0.       , 1.       ],\n",
              "       [0.       , 1.       ],\n",
              "       [0.       , 1.       ],\n",
              "       [0.       , 1.       ],\n",
              "       [0.7037037, 0.2962963],\n",
              "       [0.       , 1.       ],\n",
              "       [0.       , 1.       ],\n",
              "       [0.       , 1.       ],\n",
              "       [0.7037037, 0.2962963],\n",
              "       [0.7037037, 0.2962963],\n",
              "       [0.7037037, 0.2962963],\n",
              "       [0.7037037, 0.2962963],\n",
              "       [0.7037037, 0.2962963],\n",
              "       [0.7037037, 0.2962963],\n",
              "       [1.       , 0.       ],\n",
              "       [0.7037037, 0.2962963],\n",
              "       [0.7037037, 0.2962963],\n",
              "       [0.7037037, 0.2962963],\n",
              "       [0.7037037, 0.2962963],\n",
              "       [1.       , 0.       ],\n",
              "       [0.7037037, 0.2962963],\n",
              "       [0.7037037, 0.2962963],\n",
              "       [1.       , 0.       ],\n",
              "       [1.       , 0.       ],\n",
              "       [0.7037037, 0.2962963],\n",
              "       [0.7037037, 0.2962963],\n",
              "       [0.7037037, 0.2962963],\n",
              "       [0.7037037, 0.2962963],\n",
              "       [0.7037037, 0.2962963],\n",
              "       [0.7037037, 0.2962963],\n",
              "       [0.7037037, 0.2962963],\n",
              "       [0.7037037, 0.2962963],\n",
              "       [0.7037037, 0.2962963],\n",
              "       [1.       , 0.       ],\n",
              "       [0.7037037, 0.2962963],\n",
              "       [1.       , 0.       ],\n",
              "       [0.7037037, 0.2962963],\n",
              "       [0.7037037, 0.2962963],\n",
              "       [0.7037037, 0.2962963],\n",
              "       [0.7037037, 0.2962963],\n",
              "       [0.7037037, 0.2962963],\n",
              "       [0.7037037, 0.2962963],\n",
              "       [0.7037037, 0.2962963],\n",
              "       [0.7037037, 0.2962963],\n",
              "       [0.7037037, 0.2962963],\n",
              "       [0.7037037, 0.2962963],\n",
              "       [1.       , 0.       ],\n",
              "       [0.7037037, 0.2962963],\n",
              "       [0.7037037, 0.2962963],\n",
              "       [0.7037037, 0.2962963],\n",
              "       [0.7037037, 0.2962963],\n",
              "       [1.       , 0.       ],\n",
              "       [1.       , 0.       ],\n",
              "       [1.       , 0.       ],\n",
              "       [1.       , 0.       ],\n",
              "       [0.7037037, 0.2962963]])"
            ]
          },
          "metadata": {
            "tags": []
          },
          "execution_count": 51
        }
      ]
    },
    {
      "cell_type": "code",
      "metadata": {
        "id": "sHzVwoQccMG1",
        "outputId": "8db831f0-1eb1-41ca-ad55-556bbfbc15cc",
        "colab": {
          "base_uri": "https://localhost:8080/",
          "height": 336
        }
      },
      "source": [
        "import seaborn as sns\n",
        "\n",
        "y_score = dt.predict_proba(X)[:,1] #nos quedamos con la probabilidad de que sea de la clase 1\n",
        "\n",
        "sns.distplot(y_score, hist=False) #vemos que es bimodal"
      ],
      "execution_count": null,
      "outputs": [
        {
          "output_type": "stream",
          "text": [
            "/usr/local/lib/python3.6/dist-packages/seaborn/distributions.py:2551: FutureWarning: `distplot` is a deprecated function and will be removed in a future version. Please adapt your code to use either `displot` (a figure-level function with similar flexibility) or `kdeplot` (an axes-level function for kernel density plots).\n",
            "  warnings.warn(msg, FutureWarning)\n"
          ],
          "name": "stderr"
        },
        {
          "output_type": "execute_result",
          "data": {
            "text/plain": [
              "<matplotlib.axes._subplots.AxesSubplot at 0x7f8ce6545860>"
            ]
          },
          "metadata": {
            "tags": []
          },
          "execution_count": 54
        },
        {
          "output_type": "display_data",
          "data": {
            "image/png": "[encoded data removed]",
            "text/plain": [
              "<Figure size 432x288 with 1 Axes>"
            ]
          },
          "metadata": {
            "tags": [],
            "needs_background": "light"
          }
        }
      ]
    },
    {
      "cell_type": "code",
      "metadata": {
        "id": "atyuoSOmdZfj",
        "outputId": "df7c145b-bd49-4ac1-a6b9-72e732b49b78",
        "colab": {
          "base_uri": "https://localhost:8080/",
          "height": 282
        }
      },
      "source": [
        "#armamos la ROC curve\n",
        "fpr, tpr, thresholds = roc_curve(y, y_score)\n",
        "plt.plot(fpr, tpr, '-o')"
      ],
      "execution_count": null,
      "outputs": [
        {
          "output_type": "execute_result",
          "data": {
            "text/plain": [
              "[<matplotlib.lines.Line2D at 0x7f8cf7f5ce48>]"
            ]
          },
          "metadata": {
            "tags": []
          },
          "execution_count": 57
        },
        {
          "output_type": "display_data",
          "data": {
            "image/png": "[encoded data removed]",
            "text/plain": [
              "<Figure size 432x288 with 1 Axes>"
            ]
          },
          "metadata": {
            "tags": [],
            "needs_background": "light"
          }
        }
      ]
    },
    {
      "cell_type": "code",
      "metadata": {
        "id": "DGjqTCO1emGV",
        "outputId": "91ca3e42-9e31-490a-d4f9-5dd4f30a6deb",
        "colab": {
          "base_uri": "https://localhost:8080/"
        }
      },
      "source": [
        "thresholds"
      ],
      "execution_count": null,
      "outputs": [
        {
          "output_type": "execute_result",
          "data": {
            "text/plain": [
              "array([2.       , 1.       , 0.2962963, 0.       ])"
            ]
          },
          "metadata": {
            "tags": []
          },
          "execution_count": 58
        }
      ]
    },
    {
      "cell_type": "code",
      "metadata": {
        "id": "_V2mWfkSth2s",
        "outputId": "f7157a54-1b67-4913-c2c7-87602127d301"
      },
      "source": [
        "# El decision tree tiene pocos scores (tantos scores como hojas)\n",
        "# Podes ver que los scores se pueden calcular a partir del vector que dice \"values\" en la visualizacion mas arriba\n",
        "\n",
        "set(y_score)"
      ],
      "execution_count": null,
      "outputs": [
        {
          "output_type": "execute_result",
          "data": {
            "text/plain": [
              "{0.0, 0.2962962962962963, 1.0}"
            ]
          },
          "metadata": {
            "tags": []
          },
          "execution_count": 132
        }
      ]
    },
    {
      "cell_type": "code",
      "metadata": {
        "id": "12q72WZCth22",
        "outputId": "710ef795-682f-4ac9-e1ad-16249e390cde",
        "colab": {
          "base_uri": "https://localhost:8080/"
        }
      },
      "source": [
        "roc_auc_score(y, y_score)"
      ],
      "execution_count": null,
      "outputs": [
        {
          "output_type": "execute_result",
          "data": {
            "text/plain": [
              "0.9599842042911675"
            ]
          },
          "metadata": {
            "tags": []
          },
          "execution_count": 59
        }
      ]
    },
    {
      "cell_type": "markdown",
      "metadata": {
        "id": "t8eDKmTGth26"
      },
      "source": [
        "Que significa el score?\n",
        "👆 cual es la probabilidad de ordenar bien 2 ejemplos al azar\n",
        "\n",
        "score(ejemplo1) > score(ejemplo2) \n",
        "\n",
        "siendo y_1 = 1, y_2 = 0\n",
        "\n",
        "Ver http://madrury.github.io/jekyll/update/statistics/2017/06/21/auc-proof.html"
      ]
    },
    {
      "cell_type": "markdown",
      "metadata": {
        "id": "zNiKBzBHth27"
      },
      "source": [
        "# Regresion logística"
      ]
    },
    {
      "cell_type": "code",
      "metadata": {
        "id": "6qifMFgTth27",
        "outputId": "8db15f2b-ddd7-487f-c1de-c76c6d312018",
        "colab": {
          "base_uri": "https://localhost:8080/"
        }
      },
      "source": [
        "from sklearn.linear_model import LogisticRegression\n",
        "\n",
        "lr = LogisticRegression()\n",
        "lr.fit(X, y); "
      ],
      "execution_count": null,
      "outputs": [
        {
          "output_type": "stream",
          "text": [
            "/usr/local/lib/python3.6/dist-packages/sklearn/linear_model/_logistic.py:764: ConvergenceWarning: lbfgs failed to converge (status=1):\n",
            "STOP: TOTAL NO. of ITERATIONS REACHED LIMIT.\n",
            "\n",
            "Increase the number of iterations (max_iter) or scale the data as shown in:\n",
            "    https://scikit-learn.org/stable/modules/preprocessing.html\n",
            "Please also refer to the documentation for alternative solver options:\n",
            "    https://scikit-learn.org/stable/modules/linear_model.html#logistic-regression\n",
            "  extra_warning_msg=_LOGISTIC_SOLVER_CONVERGENCE_MSG)\n"
          ],
          "name": "stderr"
        }
      ]
    },
    {
      "cell_type": "code",
      "metadata": {
        "id": "KEKLgrU2th2_"
      },
      "source": [
        "preds = lr.predict(X)"
      ],
      "execution_count": null,
      "outputs": []
    },
    {
      "cell_type": "code",
      "metadata": {
        "id": "ndP9biMcth3C",
        "outputId": "8a49645f-975a-4171-944f-5cd828d7ec84",
        "colab": {
          "base_uri": "https://localhost:8080/"
        }
      },
      "source": [
        "f1_score(y, preds)"
      ],
      "execution_count": null,
      "outputs": [
        {
          "output_type": "execute_result",
          "data": {
            "text/plain": [
              "0.9436619718309859"
            ]
          },
          "metadata": {
            "tags": []
          },
          "execution_count": 62
        }
      ]
    },
    {
      "cell_type": "code",
      "metadata": {
        "id": "uzOg2Wfvth3G",
        "outputId": "6487c347-2192-4fea-aedf-d0ce1e51d4f0",
        "colab": {
          "base_uri": "https://localhost:8080/"
        }
      },
      "source": [
        "prec = precision_score(y, preds)\n",
        "prec"
      ],
      "execution_count": null,
      "outputs": [
        {
          "output_type": "execute_result",
          "data": {
            "text/plain": [
              "0.9436619718309859"
            ]
          },
          "metadata": {
            "tags": []
          },
          "execution_count": 63
        }
      ]
    },
    {
      "cell_type": "code",
      "metadata": {
        "id": "QMg9MfzOth3J",
        "outputId": "ffbd007e-8be7-4fa5-8503-177ae23b12f5",
        "colab": {
          "base_uri": "https://localhost:8080/"
        }
      },
      "source": [
        "rec = recall_score(y, preds)\n",
        "rec"
      ],
      "execution_count": null,
      "outputs": [
        {
          "output_type": "execute_result",
          "data": {
            "text/plain": [
              "0.9436619718309859"
            ]
          },
          "metadata": {
            "tags": []
          },
          "execution_count": 64
        }
      ]
    },
    {
      "cell_type": "code",
      "metadata": {
        "id": "-j780shIth3N",
        "outputId": "3d5e3d65-7f83-4f12-d590-7066f02e7b60",
        "colab": {
          "base_uri": "https://localhost:8080/"
        }
      },
      "source": [
        "2 * prec * rec / (prec + rec)"
      ],
      "execution_count": null,
      "outputs": [
        {
          "output_type": "execute_result",
          "data": {
            "text/plain": [
              "0.9436619718309859"
            ]
          },
          "metadata": {
            "tags": []
          },
          "execution_count": 65
        }
      ]
    },
    {
      "cell_type": "code",
      "metadata": {
        "id": "42tSW9oRth3Q"
      },
      "source": [
        "y_score = lr.predict_proba(X)[:, 1]\n",
        "fpr, tpr, thresholds = roc_curve(y, y_score)"
      ],
      "execution_count": null,
      "outputs": []
    },
    {
      "cell_type": "code",
      "metadata": {
        "id": "47WJ8N3NiQCl",
        "outputId": "42187f15-f663-4b6a-fede-53114028777b",
        "colab": {
          "base_uri": "https://localhost:8080/",
          "height": 336
        }
      },
      "source": [
        "import seaborn as sns\n",
        "\n",
        "sns.distplot(y_score)"
      ],
      "execution_count": null,
      "outputs": [
        {
          "output_type": "stream",
          "text": [
            "/usr/local/lib/python3.6/dist-packages/seaborn/distributions.py:2551: FutureWarning: `distplot` is a deprecated function and will be removed in a future version. Please adapt your code to use either `displot` (a figure-level function with similar flexibility) or `histplot` (an axes-level function for histograms).\n",
            "  warnings.warn(msg, FutureWarning)\n"
          ],
          "name": "stderr"
        },
        {
          "output_type": "execute_result",
          "data": {
            "text/plain": [
              "<matplotlib.axes._subplots.AxesSubplot at 0x7f8cec81b470>"
            ]
          },
          "metadata": {
            "tags": []
          },
          "execution_count": 66
        },
        {
          "output_type": "display_data",
          "data": {
            "image/png": "[encoded data removed]",
            "text/plain": [
              "<Figure size 432x288 with 1 Axes>"
            ]
          },
          "metadata": {
            "tags": [],
            "needs_background": "light"
          }
        }
      ]
    },
    {
      "cell_type": "code",
      "metadata": {
        "id": "5_7EOmUhirj0",
        "outputId": "9fbef029-5a8d-49cb-f91f-b3c8175757be",
        "colab": {
          "base_uri": "https://localhost:8080/"
        }
      },
      "source": [
        "set(y_score) #conjunto de todos los valores distintos que predice\n",
        "\n",
        "#la regresión logistica usa funcion sigmoide, las features son valores numericos"
      ],
      "execution_count": null,
      "outputs": [
        {
          "output_type": "execute_result",
          "data": {
            "text/plain": [
              "{4.655634438919507e-09,\n",
              " 5.873725379348219e-08,\n",
              " 1.1806121656056025e-07,\n",
              " 3.3084121375443443e-07,\n",
              " 5.750703720077419e-07,\n",
              " 7.439951063232232e-07,\n",
              " 7.746706750103155e-07,\n",
              " 8.500385038726341e-07,\n",
              " 8.502000380269449e-07,\n",
              " 9.184141069508631e-07,\n",
              " 1.9571529693917693e-06,\n",
              " 2.2722290763739914e-06,\n",
              " 2.4287997828549804e-06,\n",
              " 2.562584818642192e-06,\n",
              " 5.085865702303236e-06,\n",
              " 6.824873548422825e-06,\n",
              " 6.860691251327052e-06,\n",
              " 7.5241857659123144e-06,\n",
              " 7.961843008042822e-06,\n",
              " 1.2347144833349507e-05,\n",
              " 1.93924198153303e-05,\n",
              " 2.4155533340166652e-05,\n",
              " 2.4988395854740655e-05,\n",
              " 2.8094198154685832e-05,\n",
              " 3.000432305785007e-05,\n",
              " 3.067417954502137e-05,\n",
              " 4.545903218012774e-05,\n",
              " 4.577209178230179e-05,\n",
              " 5.0096121458178926e-05,\n",
              " 5.181461303057614e-05,\n",
              " 5.190200241234675e-05,\n",
              " 5.195096823684829e-05,\n",
              " 0.00010225605911080243,\n",
              " 0.00010707375940383632,\n",
              " 0.00011315564381753734,\n",
              " 0.00011788557704766168,\n",
              " 0.00013061068795675393,\n",
              " 0.00015162082212724707,\n",
              " 0.00016219456770981086,\n",
              " 0.00018492222436865266,\n",
              " 0.00022048554271647197,\n",
              " 0.00022623247970849275,\n",
              " 0.0002806444107308434,\n",
              " 0.00031023480609789216,\n",
              " 0.00042642926393221666,\n",
              " 0.00042790717271602464,\n",
              " 0.000434180961231937,\n",
              " 0.00044410215194287656,\n",
              " 0.0005775105096961503,\n",
              " 0.0007013144126844425,\n",
              " 0.0007098635667754665,\n",
              " 0.0007566945682280165,\n",
              " 0.0008373859607723825,\n",
              " 0.0013432651506419526,\n",
              " 0.0013876186905175407,\n",
              " 0.0016241551145893868,\n",
              " 0.0016880304758241167,\n",
              " 0.001725529824780162,\n",
              " 0.0018580122470371486,\n",
              " 0.0019204296909413943,\n",
              " 0.002570680832326382,\n",
              " 0.003466427714387883,\n",
              " 0.003886314118377898,\n",
              " 0.004375974023812328,\n",
              " 0.004746141123042196,\n",
              " 0.004991162674178348,\n",
              " 0.0056846336906735,\n",
              " 0.005992653812552861,\n",
              " 0.006426823393631998,\n",
              " 0.0066352554574295765,\n",
              " 0.007818599327613978,\n",
              " 0.01119134645503848,\n",
              " 0.011592231382460854,\n",
              " 0.014511484422768025,\n",
              " 0.017345948973729697,\n",
              " 0.01839904960542346,\n",
              " 0.018535785445766444,\n",
              " 0.01913010708462439,\n",
              " 0.019853487917861692,\n",
              " 0.02876797072384326,\n",
              " 0.03404184344550274,\n",
              " 0.04047185147147319,\n",
              " 0.04411637694451939,\n",
              " 0.04452688045386166,\n",
              " 0.04542393043803598,\n",
              " 0.04859037121201828,\n",
              " 0.049446503652339255,\n",
              " 0.05244819283511646,\n",
              " 0.06557439435075967,\n",
              " 0.0682746241592088,\n",
              " 0.08278707003376005,\n",
              " 0.08493804803617336,\n",
              " 0.09156139374688756,\n",
              " 0.09260821420696164,\n",
              " 0.1067998568567714,\n",
              " 0.12451290542087393,\n",
              " 0.1415022917719336,\n",
              " 0.1867499380722379,\n",
              " 0.19639157351177294,\n",
              " 0.1972081020200808,\n",
              " 0.23520034329994619,\n",
              " 0.2969748394462367,\n",
              " 0.3032654662549513,\n",
              " 0.3417901722125745,\n",
              " 0.4377810281348322,\n",
              " 0.47094679994401084,\n",
              " 0.4772445091808742,\n",
              " 0.5898577303536843,\n",
              " 0.6406417410937894,\n",
              " 0.6464499420702011,\n",
              " 0.6615256411833638,\n",
              " 0.6962987338867855,\n",
              " 0.719538370040552,\n",
              " 0.7260680360425846,\n",
              " 0.7363535170595586,\n",
              " 0.7399760519016502,\n",
              " 0.7930972492434384,\n",
              " 0.8102984203201398,\n",
              " 0.8121732458637357,\n",
              " 0.8566193998039757,\n",
              " 0.8631457741833288,\n",
              " 0.8641529844475833,\n",
              " 0.8745343300051635,\n",
              " 0.8936919039674288,\n",
              " 0.9064078275561422,\n",
              " 0.9123738795681834,\n",
              " 0.9164031232666854,\n",
              " 0.9222422832874536,\n",
              " 0.9256923872211656,\n",
              " 0.9313641358922501,\n",
              " 0.9342873582286412,\n",
              " 0.9472111055805874,\n",
              " 0.9500997634781929,\n",
              " 0.9525204591047134,\n",
              " 0.96664786745979,\n",
              " 0.9766412115443872,\n",
              " 0.979848016777062,\n",
              " 0.9811789682556427,\n",
              " 0.9887429540588646,\n",
              " 0.9887540097722924,\n",
              " 0.9898801513540877,\n",
              " 0.990914942123137,\n",
              " 0.9910254735568035,\n",
              " 0.9939600005109085,\n",
              " 0.9940013964831975,\n",
              " 0.9940717292393497,\n",
              " 0.9941504436603127,\n",
              " 0.994762449355138,\n",
              " 0.9947710241804945,\n",
              " 0.9955820865074002,\n",
              " 0.9962783617493643,\n",
              " 0.9963556748201934,\n",
              " 0.9964668997213519,\n",
              " 0.9968505437062697,\n",
              " 0.9973073030790323,\n",
              " 0.9981278406777723,\n",
              " 0.9981422319794113,\n",
              " 0.9982107713814514,\n",
              " 0.9985979661245606,\n",
              " 0.9986026828924536,\n",
              " 0.9986305738113838,\n",
              " 0.998753723612137,\n",
              " 0.998836029044803,\n",
              " 0.9988567181374552,\n",
              " 0.99906309017699,\n",
              " 0.9991708238828806,\n",
              " 0.9992903310783955,\n",
              " 0.9994374578179186,\n",
              " 0.999456940365306,\n",
              " 0.9994715806868373,\n",
              " 0.9997171302787023,\n",
              " 0.9998046321520723,\n",
              " 0.9998553215049898,\n",
              " 0.999857020660745,\n",
              " 0.999904974742998,\n",
              " 0.9999540286586859,\n",
              " 0.9999560441238078,\n",
              " 0.9999675684949505}"
            ]
          },
          "metadata": {
            "tags": []
          },
          "execution_count": 69
        }
      ]
    },
    {
      "cell_type": "code",
      "metadata": {
        "id": "uvCWPF1qth3U",
        "outputId": "35ef2807-c188-4da3-8c4a-70def013a47b",
        "colab": {
          "base_uri": "https://localhost:8080/",
          "height": 282
        }
      },
      "source": [
        "plt.plot(fpr, tpr, '-o')\n",
        "\n",
        "#La curva es muy buena, pero usé para probar los mismos datos con lo que entrené"
      ],
      "execution_count": null,
      "outputs": [
        {
          "output_type": "execute_result",
          "data": {
            "text/plain": [
              "[<matplotlib.lines.Line2D at 0x7f8ce6356400>]"
            ]
          },
          "metadata": {
            "tags": []
          },
          "execution_count": 70
        },
        {
          "output_type": "display_data",
          "data": {
            "image/png": "[encoded data removed]",
            "text/plain": [
              "<Figure size 432x288 with 1 Axes>"
            ]
          },
          "metadata": {
            "tags": [],
            "needs_background": "light"
          }
        }
      ]
    },
    {
      "cell_type": "code",
      "metadata": {
        "id": "AGLSY_nyth3Z",
        "outputId": "9ce68dda-207d-4742-c915-fb6264669845",
        "colab": {
          "base_uri": "https://localhost:8080/"
        }
      },
      "source": [
        "roc_auc_score(y, y_score)"
      ],
      "execution_count": null,
      "outputs": [
        {
          "output_type": "execute_result",
          "data": {
            "text/plain": [
              "0.9951296564433328"
            ]
          },
          "metadata": {
            "tags": []
          },
          "execution_count": 71
        }
      ]
    },
    {
      "cell_type": "code",
      "metadata": {
        "id": "1kpQClC9th3d"
      },
      "source": [
        ""
      ],
      "execution_count": null,
      "outputs": []
    }
  ]
}